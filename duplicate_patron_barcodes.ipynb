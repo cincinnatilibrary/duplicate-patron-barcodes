{
 "cells": [
  {
   "cell_type": "code",
   "execution_count": 1,
   "id": "b556a03a-1366-4310-b1b3-a300b3c1c62f",
   "metadata": {
    "tags": []
   },
   "outputs": [],
   "source": [
    "import json\n",
    "import csv\n",
    "from datetime import datetime, timedelta\n",
    "import os\n",
    "\n",
    "from sierra_db import execute_query_yield_rows, get_cursor\n",
    "from chpl_email import send_email\n",
    "\n",
    "from jinja2 import Environment, FileSystemLoader\n",
    "\n",
    "# Set up the Jinja2 environment and load the template\n",
    "env = Environment(loader=FileSystemLoader('.'))\n",
    "template = env.get_template('template.html')\n",
    "\n",
    "try:\n",
    "    with open('config.json') as f:\n",
    "        config = json.load(f)\n",
    "        dsn = config['dsn']\n",
    "except Exception as e:\n",
    "    print(e)\n",
    "    \n",
    "directory = \"./output\"\n",
    "\n",
    "# Check if the directory exists\n",
    "if not os.path.exists(directory):\n",
    "    # If the directory doesn't exist, create it\n",
    "    os.makedirs(directory)\n",
    "    \n",
    "# Get the current date and format it as a string\n",
    "date_str = datetime.now().strftime(\"%Y-%m-%d\")\n",
    "\n",
    "\n",
    "# Now you can use this directory to save your file\n",
    "filename = f\"duplicate-patron-barcodes_{date_str}.csv\"\n",
    "filepath = os.path.join(directory, filename)"
   ]
  },
  {
   "cell_type": "code",
   "execution_count": 2,
   "id": "8effa854-76bc-4387-8fb0-003e6928767d",
   "metadata": {},
   "outputs": [
    {
     "name": "stdout",
     "output_type": "stream",
     "text": [
      "..done (97)\n"
     ]
    }
   ],
   "source": [
    "sql = \"\"\"\\\n",
    "select \n",
    "    'Barcode' as identifier_type,\n",
    "    v.field_content as identifier,\n",
    "    json_agg(rm.record_type_code || rm.record_num || 'a') as patron_record_id_array \n",
    "from \n",
    "    sierra_view.varfield v \n",
    "    join sierra_view.record_metadata rm on (\n",
    "        rm.id = v.record_id\n",
    "        and rm.record_type_code = 'p'\n",
    "        and rm.campus_code = ''\n",
    "    )\n",
    "where \n",
    "    v.varfield_type_code = 'b'     -- barcode\n",
    "group by \n",
    "    v.field_content \n",
    "having\n",
    "    count(distinct rm.id) > 1\n",
    "union all\n",
    "select \n",
    "    'Alternate ID' as identifier_type,\n",
    "    v.field_content as identifier,\n",
    "    json_agg(rm.record_type_code || rm.record_num || 'a') as patron_record_id_array\n",
    "from \n",
    "    sierra_view.varfield v \n",
    "    join sierra_view.record_metadata rm on (\n",
    "        rm.id = v.record_id\n",
    "        and rm.record_type_code = 'p'\n",
    "        and rm.campus_code = ''\n",
    "    )\n",
    "where \n",
    "    v.varfield_type_code = 'v'     -- alt id\n",
    "group by \n",
    "    v.field_content \n",
    "having\n",
    "    count(distinct rm.id) > 1\n",
    "\"\"\"\n",
    "\n",
    "with get_cursor(dsn=dsn) as cursor:\n",
    "    rows = execute_query_yield_rows(cursor, sql, None)\n",
    "    \n",
    "    with open(filepath, 'w') as f:\n",
    "        writer = csv.writer(f)\n",
    "        columns = next(rows)\n",
    "        writer.writerow(columns)\n",
    "        \n",
    "        # Initialize an empty list to store the data for the template\n",
    "        data = []\n",
    "        \n",
    "        for i, row in enumerate(rows):\n",
    "            writer.writerow(row)\n",
    "            \n",
    "            # Add this row's data to the list for the template\n",
    "            data.append(dict(zip(columns, row)))\n",
    "            \n",
    "            if i % 1000 == 0:\n",
    "                print('.', end='')\n",
    "        print(f'.done ({i+1})')"
   ]
  },
  {
   "cell_type": "code",
   "execution_count": 3,
   "id": "e63c6a83-3959-4ddd-8d20-1e6f6ba4ddc3",
   "metadata": {
    "tags": []
   },
   "outputs": [],
   "source": [
    "# Render the template with the data\n",
    "html = template.render(results=data)\n",
    "\n",
    "# Now you can use the HTML string however you like, e.g., write it to a file or send it in an email\n",
    "with open('report.html', 'w') as f:\n",
    "    f.write(html)\n",
    "\n",
    "html = template.render(results=data)"
   ]
  },
  {
   "cell_type": "code",
   "execution_count": 4,
   "id": "2602ad72-bafa-409d-aabf-9e72d8c84982",
   "metadata": {
    "tags": []
   },
   "outputs": [],
   "source": [
    "send_email(\n",
    "    smtp_username=config['smtp_username'], \n",
    "    smtp_password=config['smtp_password'], \n",
    "    subject=\"Duplicate Identifier for Patron Records Report\", \n",
    "    message=\"See attached.\",\n",
    "    html=html,\n",
    "    from_addr=\"ray.voelker@chpl.org\", \n",
    "    to_addr=config['send_list'], \n",
    "    files=[filepath, 'report.html']\n",
    ")"
   ]
  }
 ],
 "metadata": {
  "kernelspec": {
   "display_name": "Python 3 (ipykernel)",
   "language": "python",
   "name": "python3"
  },
  "language_info": {
   "codemirror_mode": {
    "name": "ipython",
    "version": 3
   },
   "file_extension": ".py",
   "mimetype": "text/x-python",
   "name": "python",
   "nbconvert_exporter": "python",
   "pygments_lexer": "ipython3",
   "version": "3.7.3"
  }
 },
 "nbformat": 4,
 "nbformat_minor": 5
}
